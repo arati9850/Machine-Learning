{
  "nbformat": 4,
  "nbformat_minor": 0,
  "metadata": {
    "colab": {
      "provenance": []
    },
    "kernelspec": {
      "name": "python3",
      "display_name": "Python 3"
    },
    "language_info": {
      "name": "python"
    }
  },
  "cells": [
    {
      "cell_type": "code",
      "source": [
        "#Prime number\n",
        "number = 5\n",
        "if number == 1:\n",
        "  print(number, \"is not a prime number\")\n",
        "elif(number > 1):\n",
        "  for i in range(2,number):\n",
        "    if number % i == 0 :\n",
        "      print(\"Given number is not a prime number\")\n",
        "      break\n",
        "  else:\n",
        "    print(\"Given number is a prime number \")"
      ],
      "metadata": {
        "id": "xBfaJuyFw39M",
        "colab": {
          "base_uri": "https://localhost:8080/"
        },
        "outputId": "3c515937-8dfd-4420-d579-ed1c6de2522f"
      },
      "execution_count": null,
      "outputs": [
        {
          "output_type": "stream",
          "name": "stdout",
          "text": [
            "Given number is a prime number \n"
          ]
        }
      ]
    },
    {
      "cell_type": "code",
      "source": [
        "#Product of Random Numbers\n",
        "number1 = 8\n",
        "number2 = 3\n",
        "product = number1 * number2\n",
        "user_answer = int(input(\"Enter a number1 and number2 product\"))\n",
        "if(user_answer == product):\n",
        "  print(\"User answer is correct\")\n",
        "else:\n",
        "  print(\"User answer is not correct\")\n",
        "print(\"Correct answer :\", product)\n"
      ],
      "metadata": {
        "colab": {
          "base_uri": "https://localhost:8080/"
        },
        "id": "b3rUj6kgyS25",
        "outputId": "c608ffcf-4172-473b-931a-e8488fd4feec"
      },
      "execution_count": null,
      "outputs": [
        {
          "output_type": "stream",
          "name": "stdout",
          "text": [
            "Enter a number1 and number2 product40\n",
            "User answer is not correct\n",
            "Correct answer : 24\n"
          ]
        }
      ]
    },
    {
      "cell_type": "code",
      "source": [
        "#Squares of Even/Odd Numbers\n",
        "print(\"Square of even no. :\")\n",
        "for i in range(100,201,2):\n",
        "  print(i*i)\n",
        "\n",
        "print(\"Square of odd no. :\")\n",
        "for i in range(101,200,2):\n",
        "  print(i*i)\n",
        "\n"
      ],
      "metadata": {
        "colab": {
          "base_uri": "https://localhost:8080/"
        },
        "id": "TczobHvt3xjs",
        "outputId": "11d2c30b-63e1-43c7-d49f-16bf80f4daae"
      },
      "execution_count": null,
      "outputs": [
        {
          "output_type": "stream",
          "name": "stdout",
          "text": [
            "Square of even no. :\n",
            "10000\n",
            "10404\n",
            "10816\n",
            "11236\n",
            "11664\n",
            "12100\n",
            "12544\n",
            "12996\n",
            "13456\n",
            "13924\n",
            "14400\n",
            "14884\n",
            "15376\n",
            "15876\n",
            "16384\n",
            "16900\n",
            "17424\n",
            "17956\n",
            "18496\n",
            "19044\n",
            "19600\n",
            "20164\n",
            "20736\n",
            "21316\n",
            "21904\n",
            "22500\n",
            "23104\n",
            "23716\n",
            "24336\n",
            "24964\n",
            "25600\n",
            "26244\n",
            "26896\n",
            "27556\n",
            "28224\n",
            "28900\n",
            "29584\n",
            "30276\n",
            "30976\n",
            "31684\n",
            "32400\n",
            "33124\n",
            "33856\n",
            "34596\n",
            "35344\n",
            "36100\n",
            "36864\n",
            "37636\n",
            "38416\n",
            "39204\n",
            "40000\n",
            "Square of odd no. :\n",
            "10201\n",
            "10609\n",
            "11025\n",
            "11449\n",
            "11881\n",
            "12321\n",
            "12769\n",
            "13225\n",
            "13689\n",
            "14161\n",
            "14641\n",
            "15129\n",
            "15625\n",
            "16129\n",
            "16641\n",
            "17161\n",
            "17689\n",
            "18225\n",
            "18769\n",
            "19321\n",
            "19881\n",
            "20449\n",
            "21025\n",
            "21609\n",
            "22201\n",
            "22801\n",
            "23409\n",
            "24025\n",
            "24649\n",
            "25281\n",
            "25921\n",
            "26569\n",
            "27225\n",
            "27889\n",
            "28561\n",
            "29241\n",
            "29929\n",
            "30625\n",
            "31329\n",
            "32041\n",
            "32761\n",
            "33489\n",
            "34225\n",
            "34969\n",
            "35721\n",
            "36481\n",
            "37249\n",
            "38025\n",
            "38809\n",
            "39601\n"
          ]
        }
      ]
    },
    {
      "cell_type": "code",
      "source": [
        "#Word counter\n",
        "input_text =\"This is a sample text. This text will be used to demonstrate the word counter.\"\n",
        "word = input_text.split()\n",
        "dictionary = dict()\n",
        "for i in word:\n",
        "  if i in dictionary:\n",
        "    dictionary[i]+= 1\n",
        "  else:\n",
        "    dictionary[i]= 1\n",
        "print(dictionary)\n",
        "\n"
      ],
      "metadata": {
        "id": "uBRc2fn88NQJ",
        "colab": {
          "base_uri": "https://localhost:8080/"
        },
        "outputId": "e5d98878-feb6-4db2-8765-180554dac5b1"
      },
      "execution_count": null,
      "outputs": [
        {
          "output_type": "stream",
          "name": "stdout",
          "text": [
            "{'This': 2, 'is': 1, 'a': 1, 'sample': 1, 'text.': 1, 'text': 1, 'will': 1, 'be': 1, 'used': 1, 'to': 1, 'demonstrate': 1, 'the': 1, 'word': 1, 'counter.': 1}\n"
          ]
        }
      ]
    },
    {
      "cell_type": "code",
      "source": [
        "#Check for Palindrome\n",
        "str1 = list(\"racecar\")\n",
        "str2 = list(reversed(str1))\n",
        "if (str1 == str2):\n",
        "  print(\"True\")\n",
        "else:\n",
        "  print(\"False\")"
      ],
      "metadata": {
        "colab": {
          "base_uri": "https://localhost:8080/"
        },
        "id": "3Jw6LKWN8R5u",
        "outputId": "6debae56-8d8d-4f94-ffef-0c600d09922a"
      },
      "execution_count": null,
      "outputs": [
        {
          "output_type": "stream",
          "name": "stdout",
          "text": [
            "True\n"
          ]
        }
      ]
    },
    {
      "cell_type": "code",
      "source": [],
      "metadata": {
        "id": "O7l9pP1Q3Ri3"
      },
      "execution_count": null,
      "outputs": []
    }
  ]
}