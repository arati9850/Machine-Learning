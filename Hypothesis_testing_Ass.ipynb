{
  "nbformat": 4,
  "nbformat_minor": 0,
  "metadata": {
    "colab": {
      "provenance": []
    },
    "kernelspec": {
      "name": "python3",
      "display_name": "Python 3"
    },
    "language_info": {
      "name": "python"
    }
  },
  "cells": [
    {
      "cell_type": "markdown",
      "source": [
        "# **Import libraries**"
      ],
      "metadata": {
        "id": "VPZ-XRlGkkHq"
      }
    },
    {
      "cell_type": "code",
      "source": [
        "import pandas as pd\n",
        "import numpy as np\n",
        "import scipy.stats as stats\n",
        "\n",
        "#from the given information we have :\tˉxˉ = (Rs. 3,050),\tμ =( 4000 ),σ = (25 units)\t,n = (25 restaurants), alpha = 0.05\n",
        "\n",
        "#we can see we have got sigma value so we will go for z test\n",
        "\n",
        "# looking at owners claim we can conclude that theoretical weekly cost of owner is around 3050.\n",
        "#considering scenarios here : H0 = mu <= 4000 (no increase in weekly operational cost)/ Ha = mu > 4000 (increase in weekly operating costs  )"
      ],
      "metadata": {
        "id": "U_KlUXY5kb0E"
      },
      "execution_count": 2,
      "outputs": []
    },
    {
      "cell_type": "code",
      "source": [
        "# calculate the z-score\n",
        "z_score = (3050 - 4000) / (25 / np.sqrt(25))\n",
        "\n",
        "# calculate the p-value\n",
        "p_value = (stats.t.cdf(z_score,df=24))\n",
        "\n",
        "# print the p-value\n",
        "print(p_value)"
      ],
      "metadata": {
        "colab": {
          "base_uri": "https://localhost:8080/"
        },
        "id": "2yUrrn89kxkp",
        "outputId": "88b5f2d7-89e4-45d2-e863-a1f6adc3044b"
      },
      "execution_count": 8,
      "outputs": [
        {
          "output_type": "stream",
          "name": "stdout",
          "text": [
            "5.962109654375954e-40\n"
          ]
        }
      ]
    },
    {
      "cell_type": "code",
      "source": [
        "alpha =0.05  #constant\n",
        "if p_value>alpha:\n",
        "  print(f'Accept null hypothesis (H0).\\n--------------------------')\n",
        "else:\n",
        "  print(f'Accept alternativ hypothesis (Ha).\\n-------------------')"
      ],
      "metadata": {
        "colab": {
          "base_uri": "https://localhost:8080/"
        },
        "id": "eiSLDItek_3g",
        "outputId": "8c2d7aeb-7845-4b32-b78d-ef88eb0a566a"
      },
      "execution_count": 9,
      "outputs": [
        {
          "output_type": "stream",
          "name": "stdout",
          "text": [
            "Accept alternativ hypothesis (Ha).\n",
            "-------------------\n"
          ]
        }
      ]
    },
    {
      "cell_type": "markdown",
      "source": [
        "# **Conclusion**"
      ],
      "metadata": {
        "id": "TBemGwM8lV08"
      }
    },
    {
      "cell_type": "code",
      "source": [
        "#as we can see p value is less than alpha so we are rejecting the null hypothesis and it concludes that as owner mentioned there is definately a increase in weekly operational cost"
      ],
      "metadata": {
        "id": "mfu2Gf5elE-z"
      },
      "execution_count": 10,
      "outputs": []
    },
    {
      "cell_type": "code",
      "source": [],
      "metadata": {
        "id": "ZSsQyYx0liF-"
      },
      "execution_count": null,
      "outputs": []
    }
  ]
}